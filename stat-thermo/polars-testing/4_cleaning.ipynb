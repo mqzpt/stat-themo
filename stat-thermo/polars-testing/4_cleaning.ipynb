{
 "cells": [
  {
   "cell_type": "markdown",
   "id": "4313bb4f-cd2d-4752-8be0-367dc588e5bf",
   "metadata": {},
   "source": [
    "# Cleaning Data with Polars"
   ]
  },
  {
   "cell_type": "code",
   "execution_count": 3,
   "id": "80ac0737-bae9-4822-876d-63d907d53926",
   "metadata": {},
   "outputs": [
    {
     "data": {
      "text/plain": [
       "(1035, 6)"
      ]
     },
     "execution_count": 3,
     "metadata": {},
     "output_type": "execute_result"
    }
   ],
   "source": [
    "import pandas as pd\n",
    "import polars as pl\n",
    "import seaborn as sns\n",
    "\n",
    "planets = sns.load_dataset('planets')\n",
    "planets.shape"
   ]
  },
  {
   "cell_type": "code",
   "execution_count": 5,
   "id": "46dec9e8-5e8c-4f1f-bf05-69119b3a3f8e",
   "metadata": {},
   "outputs": [
    {
     "data": {
      "text/plain": [
       "method              0\n",
       "number              0\n",
       "orbital_period     43\n",
       "mass              522\n",
       "distance          227\n",
       "year                0\n",
       "dtype: int64"
      ]
     },
     "execution_count": 5,
     "metadata": {},
     "output_type": "execute_result"
    }
   ],
   "source": [
    "# Checking for null values\n",
    "planets.isnull().sum()"
   ]
  },
  {
   "cell_type": "code",
   "execution_count": 9,
   "id": "907a2087-3718-4e7f-a452-d08bc47d6a0e",
   "metadata": {},
   "outputs": [],
   "source": [
    "df_pd = pd.DataFrame(planets)\n",
    "df_pl = pl.DataFrame(planets)"
   ]
  },
  {
   "cell_type": "code",
   "execution_count": 10,
   "id": "19b72e5f-6ceb-4a3f-a414-213630a36c57",
   "metadata": {},
   "outputs": [],
   "source": [
    "df_pd['mass'] = df_pd['mass'].fillna(df_pd['mass'].mean())"
   ]
  },
  {
   "cell_type": "code",
   "execution_count": 11,
   "id": "295faad0-5ddb-4375-b85b-7dae715e10c6",
   "metadata": {},
   "outputs": [],
   "source": [
    "df_pl = df_pl.with_columns(pl.col('mass').fill_null(strategy='mean'))"
   ]
  },
  {
   "cell_type": "code",
   "execution_count": 13,
   "id": "38931fc3-a783-4e0d-9542-9cf976af1431",
   "metadata": {},
   "outputs": [
    {
     "data": {
      "text/html": [
       "<div><style>\n",
       ".dataframe > thead > tr,\n",
       ".dataframe > tbody > tr {\n",
       "  text-align: right;\n",
       "  white-space: pre-wrap;\n",
       "}\n",
       "</style>\n",
       "<small>shape: (1, 6)</small><table border=\"1\" class=\"dataframe\"><thead><tr><th>method</th><th>number</th><th>orbital_period</th><th>mass</th><th>distance</th><th>year</th></tr><tr><td>u32</td><td>u32</td><td>u32</td><td>u32</td><td>u32</td><td>u32</td></tr></thead><tbody><tr><td>0</td><td>0</td><td>43</td><td>0</td><td>227</td><td>0</td></tr></tbody></table></div>"
      ],
      "text/plain": [
       "shape: (1, 6)\n",
       "┌────────┬────────┬────────────────┬──────┬──────────┬──────┐\n",
       "│ method ┆ number ┆ orbital_period ┆ mass ┆ distance ┆ year │\n",
       "│ ---    ┆ ---    ┆ ---            ┆ ---  ┆ ---      ┆ ---  │\n",
       "│ u32    ┆ u32    ┆ u32            ┆ u32  ┆ u32      ┆ u32  │\n",
       "╞════════╪════════╪════════════════╪══════╪══════════╪══════╡\n",
       "│ 0      ┆ 0      ┆ 43             ┆ 0    ┆ 227      ┆ 0    │\n",
       "└────────┴────────┴────────────────┴──────┴──────────┴──────┘"
      ]
     },
     "execution_count": 13,
     "metadata": {},
     "output_type": "execute_result"
    }
   ],
   "source": [
    "df_pl.select(pl.all().is_null().sum())"
   ]
  },
  {
   "cell_type": "code",
   "execution_count": 14,
   "id": "bdfbac14-ec0f-4c0e-ad65-d34d77c38c9e",
   "metadata": {},
   "outputs": [
    {
     "data": {
      "text/html": [
       "<div>\n",
       "<style scoped>\n",
       "    .dataframe tbody tr th:only-of-type {\n",
       "        vertical-align: middle;\n",
       "    }\n",
       "\n",
       "    .dataframe tbody tr th {\n",
       "        vertical-align: top;\n",
       "    }\n",
       "\n",
       "    .dataframe thead th {\n",
       "        text-align: right;\n",
       "    }\n",
       "</style>\n",
       "<table border=\"1\" class=\"dataframe\">\n",
       "  <thead>\n",
       "    <tr style=\"text-align: right;\">\n",
       "      <th></th>\n",
       "      <th>method</th>\n",
       "      <th>number</th>\n",
       "      <th>orbital_period</th>\n",
       "      <th>mass</th>\n",
       "      <th>distance</th>\n",
       "      <th>year</th>\n",
       "    </tr>\n",
       "  </thead>\n",
       "  <tbody>\n",
       "    <tr>\n",
       "      <th>0</th>\n",
       "      <td>Radial Velocity</td>\n",
       "      <td>1</td>\n",
       "      <td>269.300000</td>\n",
       "      <td>7.100000</td>\n",
       "      <td>77.40</td>\n",
       "      <td>2006</td>\n",
       "    </tr>\n",
       "    <tr>\n",
       "      <th>1</th>\n",
       "      <td>Radial Velocity</td>\n",
       "      <td>1</td>\n",
       "      <td>874.774000</td>\n",
       "      <td>2.210000</td>\n",
       "      <td>56.95</td>\n",
       "      <td>2008</td>\n",
       "    </tr>\n",
       "    <tr>\n",
       "      <th>2</th>\n",
       "      <td>Radial Velocity</td>\n",
       "      <td>1</td>\n",
       "      <td>763.000000</td>\n",
       "      <td>2.600000</td>\n",
       "      <td>19.84</td>\n",
       "      <td>2011</td>\n",
       "    </tr>\n",
       "    <tr>\n",
       "      <th>3</th>\n",
       "      <td>Radial Velocity</td>\n",
       "      <td>1</td>\n",
       "      <td>326.030000</td>\n",
       "      <td>19.400000</td>\n",
       "      <td>110.62</td>\n",
       "      <td>2007</td>\n",
       "    </tr>\n",
       "    <tr>\n",
       "      <th>4</th>\n",
       "      <td>Radial Velocity</td>\n",
       "      <td>1</td>\n",
       "      <td>516.220000</td>\n",
       "      <td>10.500000</td>\n",
       "      <td>119.47</td>\n",
       "      <td>2009</td>\n",
       "    </tr>\n",
       "    <tr>\n",
       "      <th>...</th>\n",
       "      <td>...</td>\n",
       "      <td>...</td>\n",
       "      <td>...</td>\n",
       "      <td>...</td>\n",
       "      <td>...</td>\n",
       "      <td>...</td>\n",
       "    </tr>\n",
       "    <tr>\n",
       "      <th>1030</th>\n",
       "      <td>Transit</td>\n",
       "      <td>1</td>\n",
       "      <td>3.941507</td>\n",
       "      <td>2.638161</td>\n",
       "      <td>172.00</td>\n",
       "      <td>2006</td>\n",
       "    </tr>\n",
       "    <tr>\n",
       "      <th>1031</th>\n",
       "      <td>Transit</td>\n",
       "      <td>1</td>\n",
       "      <td>2.615864</td>\n",
       "      <td>2.638161</td>\n",
       "      <td>148.00</td>\n",
       "      <td>2007</td>\n",
       "    </tr>\n",
       "    <tr>\n",
       "      <th>1032</th>\n",
       "      <td>Transit</td>\n",
       "      <td>1</td>\n",
       "      <td>3.191524</td>\n",
       "      <td>2.638161</td>\n",
       "      <td>174.00</td>\n",
       "      <td>2007</td>\n",
       "    </tr>\n",
       "    <tr>\n",
       "      <th>1033</th>\n",
       "      <td>Transit</td>\n",
       "      <td>1</td>\n",
       "      <td>4.125083</td>\n",
       "      <td>2.638161</td>\n",
       "      <td>293.00</td>\n",
       "      <td>2008</td>\n",
       "    </tr>\n",
       "    <tr>\n",
       "      <th>1034</th>\n",
       "      <td>Transit</td>\n",
       "      <td>1</td>\n",
       "      <td>4.187757</td>\n",
       "      <td>2.638161</td>\n",
       "      <td>260.00</td>\n",
       "      <td>2008</td>\n",
       "    </tr>\n",
       "  </tbody>\n",
       "</table>\n",
       "<p>776 rows × 6 columns</p>\n",
       "</div>"
      ],
      "text/plain": [
       "               method  number  orbital_period       mass  distance  year\n",
       "0     Radial Velocity       1      269.300000   7.100000     77.40  2006\n",
       "1     Radial Velocity       1      874.774000   2.210000     56.95  2008\n",
       "2     Radial Velocity       1      763.000000   2.600000     19.84  2011\n",
       "3     Radial Velocity       1      326.030000  19.400000    110.62  2007\n",
       "4     Radial Velocity       1      516.220000  10.500000    119.47  2009\n",
       "...               ...     ...             ...        ...       ...   ...\n",
       "1030          Transit       1        3.941507   2.638161    172.00  2006\n",
       "1031          Transit       1        2.615864   2.638161    148.00  2007\n",
       "1032          Transit       1        3.191524   2.638161    174.00  2007\n",
       "1033          Transit       1        4.125083   2.638161    293.00  2008\n",
       "1034          Transit       1        4.187757   2.638161    260.00  2008\n",
       "\n",
       "[776 rows x 6 columns]"
      ]
     },
     "execution_count": 14,
     "metadata": {},
     "output_type": "execute_result"
    }
   ],
   "source": [
    "df_pd_2 = df_pd.dropna()\n",
    "df_pd_2"
   ]
  },
  {
   "cell_type": "code",
   "execution_count": 15,
   "id": "8091e2a4-c84b-47da-94cb-fa15b58f032c",
   "metadata": {},
   "outputs": [
    {
     "data": {
      "text/html": [
       "<div><style>\n",
       ".dataframe > thead > tr,\n",
       ".dataframe > tbody > tr {\n",
       "  text-align: right;\n",
       "  white-space: pre-wrap;\n",
       "}\n",
       "</style>\n",
       "<small>shape: (776, 6)</small><table border=\"1\" class=\"dataframe\"><thead><tr><th>method</th><th>number</th><th>orbital_period</th><th>mass</th><th>distance</th><th>year</th></tr><tr><td>str</td><td>i64</td><td>f64</td><td>f64</td><td>f64</td><td>i64</td></tr></thead><tbody><tr><td>&quot;Radial Velocity&quot;</td><td>1</td><td>269.3</td><td>7.1</td><td>77.4</td><td>2006</td></tr><tr><td>&quot;Radial Velocity&quot;</td><td>1</td><td>874.774</td><td>2.21</td><td>56.95</td><td>2008</td></tr><tr><td>&quot;Radial Velocity&quot;</td><td>1</td><td>763.0</td><td>2.6</td><td>19.84</td><td>2011</td></tr><tr><td>&quot;Radial Velocity&quot;</td><td>1</td><td>326.03</td><td>19.4</td><td>110.62</td><td>2007</td></tr><tr><td>&quot;Radial Velocity&quot;</td><td>1</td><td>516.22</td><td>10.5</td><td>119.47</td><td>2009</td></tr><tr><td>&hellip;</td><td>&hellip;</td><td>&hellip;</td><td>&hellip;</td><td>&hellip;</td><td>&hellip;</td></tr><tr><td>&quot;Transit&quot;</td><td>1</td><td>3.941507</td><td>2.638161</td><td>172.0</td><td>2006</td></tr><tr><td>&quot;Transit&quot;</td><td>1</td><td>2.615864</td><td>2.638161</td><td>148.0</td><td>2007</td></tr><tr><td>&quot;Transit&quot;</td><td>1</td><td>3.1915239</td><td>2.638161</td><td>174.0</td><td>2007</td></tr><tr><td>&quot;Transit&quot;</td><td>1</td><td>4.1250828</td><td>2.638161</td><td>293.0</td><td>2008</td></tr><tr><td>&quot;Transit&quot;</td><td>1</td><td>4.187757</td><td>2.638161</td><td>260.0</td><td>2008</td></tr></tbody></table></div>"
      ],
      "text/plain": [
       "shape: (776, 6)\n",
       "┌─────────────────┬────────┬────────────────┬──────────┬──────────┬──────┐\n",
       "│ method          ┆ number ┆ orbital_period ┆ mass     ┆ distance ┆ year │\n",
       "│ ---             ┆ ---    ┆ ---            ┆ ---      ┆ ---      ┆ ---  │\n",
       "│ str             ┆ i64    ┆ f64            ┆ f64      ┆ f64      ┆ i64  │\n",
       "╞═════════════════╪════════╪════════════════╪══════════╪══════════╪══════╡\n",
       "│ Radial Velocity ┆ 1      ┆ 269.3          ┆ 7.1      ┆ 77.4     ┆ 2006 │\n",
       "│ Radial Velocity ┆ 1      ┆ 874.774        ┆ 2.21     ┆ 56.95    ┆ 2008 │\n",
       "│ Radial Velocity ┆ 1      ┆ 763.0          ┆ 2.6      ┆ 19.84    ┆ 2011 │\n",
       "│ Radial Velocity ┆ 1      ┆ 326.03         ┆ 19.4     ┆ 110.62   ┆ 2007 │\n",
       "│ Radial Velocity ┆ 1      ┆ 516.22         ┆ 10.5     ┆ 119.47   ┆ 2009 │\n",
       "│ …               ┆ …      ┆ …              ┆ …        ┆ …        ┆ …    │\n",
       "│ Transit         ┆ 1      ┆ 3.941507       ┆ 2.638161 ┆ 172.0    ┆ 2006 │\n",
       "│ Transit         ┆ 1      ┆ 2.615864       ┆ 2.638161 ┆ 148.0    ┆ 2007 │\n",
       "│ Transit         ┆ 1      ┆ 3.1915239      ┆ 2.638161 ┆ 174.0    ┆ 2007 │\n",
       "│ Transit         ┆ 1      ┆ 4.1250828      ┆ 2.638161 ┆ 293.0    ┆ 2008 │\n",
       "│ Transit         ┆ 1      ┆ 4.187757       ┆ 2.638161 ┆ 260.0    ┆ 2008 │\n",
       "└─────────────────┴────────┴────────────────┴──────────┴──────────┴──────┘"
      ]
     },
     "execution_count": 15,
     "metadata": {},
     "output_type": "execute_result"
    }
   ],
   "source": [
    "df_pl_2 = df_pl.drop_nulls()\n",
    "df_pl_2"
   ]
  },
  {
   "cell_type": "code",
   "execution_count": 17,
   "id": "af5db0d9-25f8-4b61-9bfd-9c0623627593",
   "metadata": {},
   "outputs": [
    {
     "data": {
      "text/html": [
       "<div><style>\n",
       ".dataframe > thead > tr,\n",
       ".dataframe > tbody > tr {\n",
       "  text-align: right;\n",
       "  white-space: pre-wrap;\n",
       "}\n",
       "</style>\n",
       "<small>shape: (992, 6)</small><table border=\"1\" class=\"dataframe\"><thead><tr><th>method</th><th>number</th><th>orbital_period</th><th>mass</th><th>distance</th><th>year</th></tr><tr><td>str</td><td>i64</td><td>f64</td><td>f64</td><td>f64</td><td>i64</td></tr></thead><tbody><tr><td>&quot;Radial Velocity&quot;</td><td>1</td><td>269.3</td><td>7.1</td><td>77.4</td><td>2006</td></tr><tr><td>&quot;Radial Velocity&quot;</td><td>1</td><td>874.774</td><td>2.21</td><td>56.95</td><td>2008</td></tr><tr><td>&quot;Radial Velocity&quot;</td><td>1</td><td>763.0</td><td>2.6</td><td>19.84</td><td>2011</td></tr><tr><td>&quot;Radial Velocity&quot;</td><td>1</td><td>326.03</td><td>19.4</td><td>110.62</td><td>2007</td></tr><tr><td>&quot;Radial Velocity&quot;</td><td>1</td><td>516.22</td><td>10.5</td><td>119.47</td><td>2009</td></tr><tr><td>&hellip;</td><td>&hellip;</td><td>&hellip;</td><td>&hellip;</td><td>&hellip;</td><td>&hellip;</td></tr><tr><td>&quot;Transit&quot;</td><td>1</td><td>3.941507</td><td>2.638161</td><td>172.0</td><td>2006</td></tr><tr><td>&quot;Transit&quot;</td><td>1</td><td>2.615864</td><td>2.638161</td><td>148.0</td><td>2007</td></tr><tr><td>&quot;Transit&quot;</td><td>1</td><td>3.1915239</td><td>2.638161</td><td>174.0</td><td>2007</td></tr><tr><td>&quot;Transit&quot;</td><td>1</td><td>4.1250828</td><td>2.638161</td><td>293.0</td><td>2008</td></tr><tr><td>&quot;Transit&quot;</td><td>1</td><td>4.187757</td><td>2.638161</td><td>260.0</td><td>2008</td></tr></tbody></table></div>"
      ],
      "text/plain": [
       "shape: (992, 6)\n",
       "┌─────────────────┬────────┬────────────────┬──────────┬──────────┬──────┐\n",
       "│ method          ┆ number ┆ orbital_period ┆ mass     ┆ distance ┆ year │\n",
       "│ ---             ┆ ---    ┆ ---            ┆ ---      ┆ ---      ┆ ---  │\n",
       "│ str             ┆ i64    ┆ f64            ┆ f64      ┆ f64      ┆ i64  │\n",
       "╞═════════════════╪════════╪════════════════╪══════════╪══════════╪══════╡\n",
       "│ Radial Velocity ┆ 1      ┆ 269.3          ┆ 7.1      ┆ 77.4     ┆ 2006 │\n",
       "│ Radial Velocity ┆ 1      ┆ 874.774        ┆ 2.21     ┆ 56.95    ┆ 2008 │\n",
       "│ Radial Velocity ┆ 1      ┆ 763.0          ┆ 2.6      ┆ 19.84    ┆ 2011 │\n",
       "│ Radial Velocity ┆ 1      ┆ 326.03         ┆ 19.4     ┆ 110.62   ┆ 2007 │\n",
       "│ Radial Velocity ┆ 1      ┆ 516.22         ┆ 10.5     ┆ 119.47   ┆ 2009 │\n",
       "│ …               ┆ …      ┆ …              ┆ …        ┆ …        ┆ …    │\n",
       "│ Transit         ┆ 1      ┆ 3.941507       ┆ 2.638161 ┆ 172.0    ┆ 2006 │\n",
       "│ Transit         ┆ 1      ┆ 2.615864       ┆ 2.638161 ┆ 148.0    ┆ 2007 │\n",
       "│ Transit         ┆ 1      ┆ 3.1915239      ┆ 2.638161 ┆ 174.0    ┆ 2007 │\n",
       "│ Transit         ┆ 1      ┆ 4.1250828      ┆ 2.638161 ┆ 293.0    ┆ 2008 │\n",
       "│ Transit         ┆ 1      ┆ 4.187757       ┆ 2.638161 ┆ 260.0    ┆ 2008 │\n",
       "└─────────────────┴────────┴────────────────┴──────────┴──────────┴──────┘"
      ]
     },
     "execution_count": 17,
     "metadata": {},
     "output_type": "execute_result"
    }
   ],
   "source": [
    "df_pl_3 = df_pl.drop_nulls('orbital_period')\n",
    "df_pl_3"
   ]
  },
  {
   "cell_type": "code",
   "execution_count": null,
   "id": "8eff8012-0e30-49ad-bafb-98e9d5e71165",
   "metadata": {},
   "outputs": [],
   "source": []
  }
 ],
 "metadata": {
  "kernelspec": {
   "display_name": "Python 3 (ipykernel)",
   "language": "python",
   "name": "python3"
  },
  "language_info": {
   "codemirror_mode": {
    "name": "ipython",
    "version": 3
   },
   "file_extension": ".py",
   "mimetype": "text/x-python",
   "name": "python",
   "nbconvert_exporter": "python",
   "pygments_lexer": "ipython3",
   "version": "3.12.2"
  }
 },
 "nbformat": 4,
 "nbformat_minor": 5
}
