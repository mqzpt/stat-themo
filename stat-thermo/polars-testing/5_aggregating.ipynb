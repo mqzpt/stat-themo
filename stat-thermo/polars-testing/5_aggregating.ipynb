{
 "cells": [
  {
   "cell_type": "markdown",
   "id": "69153b18-43f7-44e0-bd99-03109fd01fd6",
   "metadata": {},
   "source": [
    "# Data Aggregation"
   ]
  },
  {
   "cell_type": "code",
   "execution_count": 15,
   "id": "cde80052-0298-4c26-b309-73d8120160f3",
   "metadata": {},
   "outputs": [
    {
     "data": {
      "text/html": [
       "<div>\n",
       "<style scoped>\n",
       "    .dataframe tbody tr th:only-of-type {\n",
       "        vertical-align: middle;\n",
       "    }\n",
       "\n",
       "    .dataframe tbody tr th {\n",
       "        vertical-align: top;\n",
       "    }\n",
       "\n",
       "    .dataframe thead th {\n",
       "        text-align: right;\n",
       "    }\n",
       "</style>\n",
       "<table border=\"1\" class=\"dataframe\">\n",
       "  <thead>\n",
       "    <tr style=\"text-align: right;\">\n",
       "      <th></th>\n",
       "      <th>year</th>\n",
       "      <th>month</th>\n",
       "      <th>passengers</th>\n",
       "    </tr>\n",
       "  </thead>\n",
       "  <tbody>\n",
       "    <tr>\n",
       "      <th>0</th>\n",
       "      <td>1949</td>\n",
       "      <td>Jan</td>\n",
       "      <td>112</td>\n",
       "    </tr>\n",
       "    <tr>\n",
       "      <th>1</th>\n",
       "      <td>1949</td>\n",
       "      <td>Feb</td>\n",
       "      <td>118</td>\n",
       "    </tr>\n",
       "    <tr>\n",
       "      <th>2</th>\n",
       "      <td>1949</td>\n",
       "      <td>Mar</td>\n",
       "      <td>132</td>\n",
       "    </tr>\n",
       "    <tr>\n",
       "      <th>3</th>\n",
       "      <td>1949</td>\n",
       "      <td>Apr</td>\n",
       "      <td>129</td>\n",
       "    </tr>\n",
       "    <tr>\n",
       "      <th>4</th>\n",
       "      <td>1949</td>\n",
       "      <td>May</td>\n",
       "      <td>121</td>\n",
       "    </tr>\n",
       "    <tr>\n",
       "      <th>...</th>\n",
       "      <td>...</td>\n",
       "      <td>...</td>\n",
       "      <td>...</td>\n",
       "    </tr>\n",
       "    <tr>\n",
       "      <th>139</th>\n",
       "      <td>1960</td>\n",
       "      <td>Aug</td>\n",
       "      <td>606</td>\n",
       "    </tr>\n",
       "    <tr>\n",
       "      <th>140</th>\n",
       "      <td>1960</td>\n",
       "      <td>Sep</td>\n",
       "      <td>508</td>\n",
       "    </tr>\n",
       "    <tr>\n",
       "      <th>141</th>\n",
       "      <td>1960</td>\n",
       "      <td>Oct</td>\n",
       "      <td>461</td>\n",
       "    </tr>\n",
       "    <tr>\n",
       "      <th>142</th>\n",
       "      <td>1960</td>\n",
       "      <td>Nov</td>\n",
       "      <td>390</td>\n",
       "    </tr>\n",
       "    <tr>\n",
       "      <th>143</th>\n",
       "      <td>1960</td>\n",
       "      <td>Dec</td>\n",
       "      <td>432</td>\n",
       "    </tr>\n",
       "  </tbody>\n",
       "</table>\n",
       "<p>144 rows × 3 columns</p>\n",
       "</div>"
      ],
      "text/plain": [
       "     year month  passengers\n",
       "0    1949   Jan         112\n",
       "1    1949   Feb         118\n",
       "2    1949   Mar         132\n",
       "3    1949   Apr         129\n",
       "4    1949   May         121\n",
       "..    ...   ...         ...\n",
       "139  1960   Aug         606\n",
       "140  1960   Sep         508\n",
       "141  1960   Oct         461\n",
       "142  1960   Nov         390\n",
       "143  1960   Dec         432\n",
       "\n",
       "[144 rows x 3 columns]"
      ]
     },
     "execution_count": 15,
     "metadata": {},
     "output_type": "execute_result"
    }
   ],
   "source": [
    "import pandas as pd\n",
    "import polars as pl\n",
    "import seaborn as sns\n",
    "flights = sns.load_dataset('flights')\n",
    "flights"
   ]
  },
  {
   "cell_type": "code",
   "execution_count": 45,
   "id": "a5939490-fa8d-4751-a33d-c572370d7923",
   "metadata": {},
   "outputs": [
    {
     "name": "stdout",
     "output_type": "stream",
     "text": [
      "<class 'pandas.core.frame.DataFrame'>\n",
      "RangeIndex: 144 entries, 0 to 143\n",
      "Data columns (total 3 columns):\n",
      " #   Column      Non-Null Count  Dtype   \n",
      "---  ------      --------------  -----   \n",
      " 0   year        144 non-null    int64   \n",
      " 1   month       144 non-null    category\n",
      " 2   passengers  144 non-null    int64   \n",
      "dtypes: category(1), int64(2)\n",
      "memory usage: 2.9 KB\n"
     ]
    }
   ],
   "source": [
    "df_pd = pd.DataFrame(flights)\n",
    "df_pd.info()"
   ]
  },
  {
   "cell_type": "code",
   "execution_count": 49,
   "id": "91664667-4f89-4303-ae43-1650f83b9a2f",
   "metadata": {},
   "outputs": [
    {
     "data": {
      "text/plain": [
       "year\n",
       "1949    126.666667\n",
       "1950    139.666667\n",
       "1951    170.166667\n",
       "1952    197.000000\n",
       "1953    225.000000\n",
       "1954    238.916667\n",
       "1955    284.000000\n",
       "1956    328.250000\n",
       "1957    368.416667\n",
       "1958    381.000000\n",
       "1959    428.333333\n",
       "1960    476.166667\n",
       "Name: passengers, dtype: float64"
      ]
     },
     "execution_count": 49,
     "metadata": {},
     "output_type": "execute_result"
    }
   ],
   "source": [
    "grouped_pd = df_pd.groupby('year')['passengers'].mean()\n",
    "grouped_pd"
   ]
  },
  {
   "cell_type": "code",
   "execution_count": 54,
   "id": "ed248671-d9a8-4dec-a5c7-412a38ed9267",
   "metadata": {},
   "outputs": [
    {
     "data": {
      "text/html": [
       "<div><style>\n",
       ".dataframe > thead > tr,\n",
       ".dataframe > tbody > tr {\n",
       "  text-align: right;\n",
       "  white-space: pre-wrap;\n",
       "}\n",
       "</style>\n",
       "<small>shape: (12, 2)</small><table border=\"1\" class=\"dataframe\"><thead><tr><th>year</th><th>passengers</th></tr><tr><td>i64</td><td>f64</td></tr></thead><tbody><tr><td>1952</td><td>197.0</td></tr><tr><td>1955</td><td>284.0</td></tr><tr><td>1960</td><td>476.166667</td></tr><tr><td>1956</td><td>328.25</td></tr><tr><td>1949</td><td>126.666667</td></tr><tr><td>&hellip;</td><td>&hellip;</td></tr><tr><td>1951</td><td>170.166667</td></tr><tr><td>1953</td><td>225.0</td></tr><tr><td>1959</td><td>428.333333</td></tr><tr><td>1954</td><td>238.916667</td></tr><tr><td>1957</td><td>368.416667</td></tr></tbody></table></div>"
      ],
      "text/plain": [
       "shape: (12, 2)\n",
       "┌──────┬────────────┐\n",
       "│ year ┆ passengers │\n",
       "│ ---  ┆ ---        │\n",
       "│ i64  ┆ f64        │\n",
       "╞══════╪════════════╡\n",
       "│ 1952 ┆ 197.0      │\n",
       "│ 1955 ┆ 284.0      │\n",
       "│ 1960 ┆ 476.166667 │\n",
       "│ 1956 ┆ 328.25     │\n",
       "│ 1949 ┆ 126.666667 │\n",
       "│ …    ┆ …          │\n",
       "│ 1951 ┆ 170.166667 │\n",
       "│ 1953 ┆ 225.0      │\n",
       "│ 1959 ┆ 428.333333 │\n",
       "│ 1954 ┆ 238.916667 │\n",
       "│ 1957 ┆ 368.416667 │\n",
       "└──────┴────────────┘"
      ]
     },
     "execution_count": 54,
     "metadata": {},
     "output_type": "execute_result"
    }
   ],
   "source": [
    "df_pl = pl.DataFrame(flights)\n",
    "\n",
    "grouped_pl = df_pl.group_by('year').agg(pl.col('passengers').mean())\n",
    "grouped_pl"
   ]
  },
  {
   "cell_type": "code",
   "execution_count": 55,
   "id": "23b4a6b7-210c-42d8-94ab-9ec04ab8d875",
   "metadata": {},
   "outputs": [
    {
     "data": {
      "text/html": [
       "<div><style>\n",
       ".dataframe > thead > tr,\n",
       ".dataframe > tbody > tr {\n",
       "  text-align: right;\n",
       "  white-space: pre-wrap;\n",
       "}\n",
       "</style>\n",
       "<small>shape: (144, 1)</small><table border=\"1\" class=\"dataframe\"><thead><tr><th>rolling_avg_passengers</th></tr><tr><td>f64</td></tr></thead><tbody><tr><td>null</td></tr><tr><td>null</td></tr><tr><td>null</td></tr><tr><td>null</td></tr><tr><td>null</td></tr><tr><td>&hellip;</td></tr><tr><td>463.333333</td></tr><tr><td>467.083333</td></tr><tr><td>471.583333</td></tr><tr><td>473.916667</td></tr><tr><td>476.166667</td></tr></tbody></table></div>"
      ],
      "text/plain": [
       "shape: (144, 1)\n",
       "┌────────────────────────┐\n",
       "│ rolling_avg_passengers │\n",
       "│ ---                    │\n",
       "│ f64                    │\n",
       "╞════════════════════════╡\n",
       "│ null                   │\n",
       "│ null                   │\n",
       "│ null                   │\n",
       "│ null                   │\n",
       "│ null                   │\n",
       "│ …                      │\n",
       "│ 463.333333             │\n",
       "│ 467.083333             │\n",
       "│ 471.583333             │\n",
       "│ 473.916667             │\n",
       "│ 476.166667             │\n",
       "└────────────────────────┘"
      ]
     },
     "execution_count": 55,
     "metadata": {},
     "output_type": "execute_result"
    }
   ],
   "source": [
    "rolling_avg_pl = df_pl.select([\n",
    "    pl.col('passengers').rolling_mean(window_size=12).alias('rolling_avg_passengers')\n",
    "])\n",
    "\n",
    "rolling_avg_pl"
   ]
  },
  {
   "cell_type": "code",
   "execution_count": null,
   "id": "65b7daa0-4ec8-4c3b-b4b3-aa50811cd35f",
   "metadata": {},
   "outputs": [],
   "source": []
  }
 ],
 "metadata": {
  "kernelspec": {
   "display_name": "Python 3 (ipykernel)",
   "language": "python",
   "name": "python3"
  },
  "language_info": {
   "codemirror_mode": {
    "name": "ipython",
    "version": 3
   },
   "file_extension": ".py",
   "mimetype": "text/x-python",
   "name": "python",
   "nbconvert_exporter": "python",
   "pygments_lexer": "ipython3",
   "version": "3.12.2"
  }
 },
 "nbformat": 4,
 "nbformat_minor": 5
}
