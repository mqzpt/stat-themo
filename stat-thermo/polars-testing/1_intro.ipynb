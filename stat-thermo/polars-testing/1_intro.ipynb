{
 "cells": [
  {
   "cell_type": "markdown",
   "id": "4c0a099f-a84e-4492-9fe2-266132a05f38",
   "metadata": {},
   "source": [
    "# Similarities"
   ]
  },
  {
   "cell_type": "code",
   "execution_count": 1,
   "id": "4d7cdc77-10f6-40fb-aa26-d23a0ef6ebe8",
   "metadata": {},
   "outputs": [],
   "source": [
    "import pandas as pd\n",
    "import polars as pl"
   ]
  },
  {
   "cell_type": "code",
   "execution_count": 2,
   "id": "d2d93aeb-23b8-45a0-9005-d4889803488b",
   "metadata": {},
   "outputs": [],
   "source": [
    "data = {\n",
    "    \"name\": [\"Matthew\", \"Levi\", \"Andrew\", \"Justin\"],\n",
    "    \"num_occurances\": [3, 2, None, 9]\n",
    "}"
   ]
  },
  {
   "cell_type": "markdown",
   "id": "e55cb242-5802-418a-b57b-ce0531962a38",
   "metadata": {},
   "source": [
    "## Notice how many common operations are basically the same..."
   ]
  },
  {
   "cell_type": "code",
   "execution_count": 5,
   "id": "a0300dce-0e39-404f-bc26-4a4579f533e2",
   "metadata": {},
   "outputs": [
    {
     "data": {
      "text/html": [
       "<div>\n",
       "<style scoped>\n",
       "    .dataframe tbody tr th:only-of-type {\n",
       "        vertical-align: middle;\n",
       "    }\n",
       "\n",
       "    .dataframe tbody tr th {\n",
       "        vertical-align: top;\n",
       "    }\n",
       "\n",
       "    .dataframe thead th {\n",
       "        text-align: right;\n",
       "    }\n",
       "</style>\n",
       "<table border=\"1\" class=\"dataframe\">\n",
       "  <thead>\n",
       "    <tr style=\"text-align: right;\">\n",
       "      <th></th>\n",
       "      <th>name</th>\n",
       "      <th>num_occurances</th>\n",
       "    </tr>\n",
       "  </thead>\n",
       "  <tbody>\n",
       "    <tr>\n",
       "      <th>0</th>\n",
       "      <td>Matthew</td>\n",
       "      <td>3.0</td>\n",
       "    </tr>\n",
       "    <tr>\n",
       "      <th>1</th>\n",
       "      <td>Levi</td>\n",
       "      <td>2.0</td>\n",
       "    </tr>\n",
       "    <tr>\n",
       "      <th>2</th>\n",
       "      <td>Andrew</td>\n",
       "      <td>NaN</td>\n",
       "    </tr>\n",
       "    <tr>\n",
       "      <th>3</th>\n",
       "      <td>Justin</td>\n",
       "      <td>9.0</td>\n",
       "    </tr>\n",
       "  </tbody>\n",
       "</table>\n",
       "</div>"
      ],
      "text/plain": [
       "      name  num_occurances\n",
       "0  Matthew             3.0\n",
       "1     Levi             2.0\n",
       "2   Andrew             NaN\n",
       "3   Justin             9.0"
      ]
     },
     "execution_count": 5,
     "metadata": {},
     "output_type": "execute_result"
    }
   ],
   "source": [
    "df_pd = pd.DataFrame(data)\n",
    "df_pd"
   ]
  },
  {
   "cell_type": "code",
   "execution_count": 4,
   "id": "8bf7a1c4-8e67-434e-a9fc-37a60561dd80",
   "metadata": {},
   "outputs": [
    {
     "data": {
      "text/html": [
       "<div><style>\n",
       ".dataframe > thead > tr,\n",
       ".dataframe > tbody > tr {\n",
       "  text-align: right;\n",
       "  white-space: pre-wrap;\n",
       "}\n",
       "</style>\n",
       "<small>shape: (4, 2)</small><table border=\"1\" class=\"dataframe\"><thead><tr><th>name</th><th>num_occurances</th></tr><tr><td>str</td><td>i64</td></tr></thead><tbody><tr><td>&quot;Matthew&quot;</td><td>3</td></tr><tr><td>&quot;Levi&quot;</td><td>2</td></tr><tr><td>&quot;Andrew&quot;</td><td>null</td></tr><tr><td>&quot;Justin&quot;</td><td>9</td></tr></tbody></table></div>"
      ],
      "text/plain": [
       "shape: (4, 2)\n",
       "┌─────────┬────────────────┐\n",
       "│ name    ┆ num_occurances │\n",
       "│ ---     ┆ ---            │\n",
       "│ str     ┆ i64            │\n",
       "╞═════════╪════════════════╡\n",
       "│ Matthew ┆ 3              │\n",
       "│ Levi    ┆ 2              │\n",
       "│ Andrew  ┆ null           │\n",
       "│ Justin  ┆ 9              │\n",
       "└─────────┴────────────────┘"
      ]
     },
     "execution_count": 4,
     "metadata": {},
     "output_type": "execute_result"
    }
   ],
   "source": [
    "df_pl = pl.DataFrame(data)\n",
    "df_pl"
   ]
  },
  {
   "cell_type": "code",
   "execution_count": 10,
   "id": "2dcd9b48-13df-40c1-8913-ec82e6bae09c",
   "metadata": {},
   "outputs": [
    {
     "data": {
      "text/html": [
       "<div><style>\n",
       ".dataframe > thead > tr,\n",
       ".dataframe > tbody > tr {\n",
       "  text-align: right;\n",
       "  white-space: pre-wrap;\n",
       "}\n",
       "</style>\n",
       "<small>shape: (1, 2)</small><table border=\"1\" class=\"dataframe\"><thead><tr><th>name</th><th>num_occurances</th></tr><tr><td>str</td><td>i64</td></tr></thead><tbody><tr><td>&quot;Matthew&quot;</td><td>3</td></tr></tbody></table></div>"
      ],
      "text/plain": [
       "shape: (1, 2)\n",
       "┌─────────┬────────────────┐\n",
       "│ name    ┆ num_occurances │\n",
       "│ ---     ┆ ---            │\n",
       "│ str     ┆ i64            │\n",
       "╞═════════╪════════════════╡\n",
       "│ Matthew ┆ 3              │\n",
       "└─────────┴────────────────┘"
      ]
     },
     "execution_count": 10,
     "metadata": {},
     "output_type": "execute_result"
    }
   ],
   "source": [
    "df_pl.head(1)"
   ]
  },
  {
   "cell_type": "code",
   "execution_count": 14,
   "id": "8c800aa0-08eb-4302-9735-8f20004c35dc",
   "metadata": {},
   "outputs": [
    {
     "data": {
      "text/plain": [
       "(4, 2)"
      ]
     },
     "execution_count": 14,
     "metadata": {},
     "output_type": "execute_result"
    }
   ],
   "source": [
    "df_pl.shape"
   ]
  },
  {
   "cell_type": "code",
   "execution_count": 15,
   "id": "a2eb460d-3a55-4249-bfa9-6a0006da81ab",
   "metadata": {},
   "outputs": [
    {
     "data": {
      "text/plain": [
       "[String, Int64]"
      ]
     },
     "execution_count": 15,
     "metadata": {},
     "output_type": "execute_result"
    }
   ],
   "source": [
    "df_pl.dtypes"
   ]
  },
  {
   "cell_type": "code",
   "execution_count": 16,
   "id": "955ee71c-d33c-4a2e-bea1-ebb6b8187a7f",
   "metadata": {},
   "outputs": [
    {
     "data": {
      "text/plain": [
       "name               object\n",
       "num_occurances    float64\n",
       "dtype: object"
      ]
     },
     "execution_count": 16,
     "metadata": {},
     "output_type": "execute_result"
    }
   ],
   "source": [
    "df_pd.dtypes"
   ]
  },
  {
   "cell_type": "code",
   "execution_count": 17,
   "id": "b760a221-fa5e-45d2-bbf5-412c2349e678",
   "metadata": {},
   "outputs": [
    {
     "data": {
      "text/html": [
       "<div><style>\n",
       ".dataframe > thead > tr,\n",
       ".dataframe > tbody > tr {\n",
       "  text-align: right;\n",
       "  white-space: pre-wrap;\n",
       "}\n",
       "</style>\n",
       "<small>shape: (9, 2)</small><table border=\"1\" class=\"dataframe\"><thead><tr><th>statistic</th><th>value</th></tr><tr><td>str</td><td>f64</td></tr></thead><tbody><tr><td>&quot;count&quot;</td><td>3.0</td></tr><tr><td>&quot;null_count&quot;</td><td>1.0</td></tr><tr><td>&quot;mean&quot;</td><td>4.666667</td></tr><tr><td>&quot;std&quot;</td><td>3.785939</td></tr><tr><td>&quot;min&quot;</td><td>2.0</td></tr><tr><td>&quot;25%&quot;</td><td>3.0</td></tr><tr><td>&quot;50%&quot;</td><td>3.0</td></tr><tr><td>&quot;75%&quot;</td><td>9.0</td></tr><tr><td>&quot;max&quot;</td><td>9.0</td></tr></tbody></table></div>"
      ],
      "text/plain": [
       "shape: (9, 2)\n",
       "┌────────────┬──────────┐\n",
       "│ statistic  ┆ value    │\n",
       "│ ---        ┆ ---      │\n",
       "│ str        ┆ f64      │\n",
       "╞════════════╪══════════╡\n",
       "│ count      ┆ 3.0      │\n",
       "│ null_count ┆ 1.0      │\n",
       "│ mean       ┆ 4.666667 │\n",
       "│ std        ┆ 3.785939 │\n",
       "│ min        ┆ 2.0      │\n",
       "│ 25%        ┆ 3.0      │\n",
       "│ 50%        ┆ 3.0      │\n",
       "│ 75%        ┆ 9.0      │\n",
       "│ max        ┆ 9.0      │\n",
       "└────────────┴──────────┘"
      ]
     },
     "execution_count": 17,
     "metadata": {},
     "output_type": "execute_result"
    }
   ],
   "source": [
    "df_pl['num_occurances'].describe()"
   ]
  },
  {
   "cell_type": "code",
   "execution_count": 18,
   "id": "30dea1f3-0743-40da-bc2a-919a1c8a4d80",
   "metadata": {},
   "outputs": [
    {
     "data": {
      "text/plain": [
       "count    3.000000\n",
       "mean     4.666667\n",
       "std      3.785939\n",
       "min      2.000000\n",
       "25%      2.500000\n",
       "50%      3.000000\n",
       "75%      6.000000\n",
       "max      9.000000\n",
       "Name: num_occurances, dtype: float64"
      ]
     },
     "execution_count": 18,
     "metadata": {},
     "output_type": "execute_result"
    }
   ],
   "source": [
    "df_pd['num_occurances'].describe()\n"
   ]
  }
 ],
 "metadata": {
  "kernelspec": {
   "display_name": "Python 3 (ipykernel)",
   "language": "python",
   "name": "python3"
  },
  "language_info": {
   "codemirror_mode": {
    "name": "ipython",
    "version": 3
   },
   "file_extension": ".py",
   "mimetype": "text/x-python",
   "name": "python",
   "nbconvert_exporter": "python",
   "pygments_lexer": "ipython3",
   "version": "3.12.2"
  }
 },
 "nbformat": 4,
 "nbformat_minor": 5
}
